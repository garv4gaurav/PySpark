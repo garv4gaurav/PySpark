{
  "nbformat": 4,
  "nbformat_minor": 0,
  "metadata": {
    "colab": {
      "name": "PySpark1.ipynb",
      "provenance": [],
      "collapsed_sections": [],
      "authorship_tag": "ABX9TyMOro2rUC0hsv/M5Wu6Kf8s",
      "include_colab_link": true
    },
    "kernelspec": {
      "name": "python3",
      "display_name": "Python 3"
    },
    "language_info": {
      "name": "python"
    },
    "accelerator": "GPU"
  },
  "cells": [
    {
      "cell_type": "markdown",
      "metadata": {
        "id": "view-in-github",
        "colab_type": "text"
      },
      "source": [
        "<a href=\"https://colab.research.google.com/github/garv4gaurav/PySpark/blob/main/PySpark1.ipynb\" target=\"_parent\"><img src=\"https://colab.research.google.com/assets/colab-badge.svg\" alt=\"Open In Colab\"/></a>"
      ]
    },
    {
      "cell_type": "code",
      "metadata": {
        "colab": {
          "base_uri": "https://localhost:8080/"
        },
        "id": "JOOlxJHb0fOP",
        "outputId": "cdc0a056-5eb0-4610-f9b7-c0f125cd4f33"
      },
      "source": [
        "!pip install pyspark"
      ],
      "execution_count": 1,
      "outputs": [
        {
          "output_type": "stream",
          "text": [
            "Collecting pyspark\n",
            "  Downloading pyspark-3.1.2.tar.gz (212.4 MB)\n",
            "\u001b[K     |████████████████████████████████| 212.4 MB 72 kB/s \n",
            "\u001b[?25hCollecting py4j==0.10.9\n",
            "  Downloading py4j-0.10.9-py2.py3-none-any.whl (198 kB)\n",
            "\u001b[K     |████████████████████████████████| 198 kB 64.8 MB/s \n",
            "\u001b[?25hBuilding wheels for collected packages: pyspark\n",
            "  Building wheel for pyspark (setup.py) ... \u001b[?25l\u001b[?25hdone\n",
            "  Created wheel for pyspark: filename=pyspark-3.1.2-py2.py3-none-any.whl size=212880768 sha256=e7367b4e335c89903132665b9e382dc2134e02102eb14a44993d3a05dee2944b\n",
            "  Stored in directory: /root/.cache/pip/wheels/a5/0a/c1/9561f6fecb759579a7d863dcd846daaa95f598744e71b02c77\n",
            "Successfully built pyspark\n",
            "Installing collected packages: py4j, pyspark\n",
            "Successfully installed py4j-0.10.9 pyspark-3.1.2\n"
          ],
          "name": "stdout"
        }
      ]
    },
    {
      "cell_type": "code",
      "metadata": {
        "colab": {
          "base_uri": "https://localhost:8080/"
        },
        "id": "zPqxlQtm4Pkj",
        "outputId": "4ab2a38b-34af-4e65-a4cf-91d9894203f2"
      },
      "source": [
        "from google.colab import drive\n",
        "drive.mount('/content/drive')"
      ],
      "execution_count": 2,
      "outputs": [
        {
          "output_type": "stream",
          "text": [
            "Mounted at /content/drive\n"
          ],
          "name": "stdout"
        }
      ]
    },
    {
      "cell_type": "code",
      "metadata": {
        "id": "256i7QYR5n71"
      },
      "source": [
        "database_path = \"/content/drive/My Drive/DBs/test_Spark/\""
      ],
      "execution_count": 3,
      "outputs": []
    },
    {
      "cell_type": "code",
      "metadata": {
        "id": "vG_yWRJ456e4"
      },
      "source": [
        "import pyspark\n",
        "import pandas as pd"
      ],
      "execution_count": 4,
      "outputs": []
    },
    {
      "cell_type": "code",
      "metadata": {
        "colab": {
          "base_uri": "https://localhost:8080/",
          "height": 195
        },
        "id": "pRzbVPVf5-Ul",
        "outputId": "1471f0c7-7443-449c-ab9d-db4fb6de9075"
      },
      "source": [
        "pd.read_csv(database_path+\"spark_test.csv\")"
      ],
      "execution_count": 5,
      "outputs": [
        {
          "output_type": "execute_result",
          "data": {
            "text/html": [
              "<div>\n",
              "<style scoped>\n",
              "    .dataframe tbody tr th:only-of-type {\n",
              "        vertical-align: middle;\n",
              "    }\n",
              "\n",
              "    .dataframe tbody tr th {\n",
              "        vertical-align: top;\n",
              "    }\n",
              "\n",
              "    .dataframe thead th {\n",
              "        text-align: right;\n",
              "    }\n",
              "</style>\n",
              "<table border=\"1\" class=\"dataframe\">\n",
              "  <thead>\n",
              "    <tr style=\"text-align: right;\">\n",
              "      <th></th>\n",
              "      <th>Name</th>\n",
              "      <th>Age</th>\n",
              "      <th>Experience</th>\n",
              "      <th>Salary</th>\n",
              "    </tr>\n",
              "  </thead>\n",
              "  <tbody>\n",
              "    <tr>\n",
              "      <th>0</th>\n",
              "      <td>Gaurav</td>\n",
              "      <td>30</td>\n",
              "      <td>7</td>\n",
              "      <td>1600000</td>\n",
              "    </tr>\n",
              "    <tr>\n",
              "      <th>1</th>\n",
              "      <td>varun</td>\n",
              "      <td>30</td>\n",
              "      <td>8</td>\n",
              "      <td>3000000</td>\n",
              "    </tr>\n",
              "    <tr>\n",
              "      <th>2</th>\n",
              "      <td>Akash</td>\n",
              "      <td>29</td>\n",
              "      <td>6</td>\n",
              "      <td>10000000</td>\n",
              "    </tr>\n",
              "    <tr>\n",
              "      <th>3</th>\n",
              "      <td>Souvik</td>\n",
              "      <td>28</td>\n",
              "      <td>5</td>\n",
              "      <td>700000</td>\n",
              "    </tr>\n",
              "    <tr>\n",
              "      <th>4</th>\n",
              "      <td>Ashit</td>\n",
              "      <td>29</td>\n",
              "      <td>5</td>\n",
              "      <td>1200000</td>\n",
              "    </tr>\n",
              "  </tbody>\n",
              "</table>\n",
              "</div>"
            ],
            "text/plain": [
              "     Name  Age  Experience    Salary\n",
              "0  Gaurav   30           7   1600000\n",
              "1   varun   30           8   3000000\n",
              "2   Akash   29           6  10000000\n",
              "3  Souvik   28           5    700000\n",
              "4   Ashit   29           5   1200000"
            ]
          },
          "metadata": {
            "tags": []
          },
          "execution_count": 5
        }
      ]
    },
    {
      "cell_type": "code",
      "metadata": {
        "id": "xAPe6E0LJhcf"
      },
      "source": [
        "from pyspark.sql import SparkSession"
      ],
      "execution_count": 6,
      "outputs": []
    },
    {
      "cell_type": "code",
      "metadata": {
        "id": "flZN6qN-JiQT"
      },
      "source": [
        "sess = SparkSession.builder.appName(\"Test1\").getOrCreate()"
      ],
      "execution_count": 7,
      "outputs": []
    },
    {
      "cell_type": "code",
      "metadata": {
        "colab": {
          "base_uri": "https://localhost:8080/",
          "height": 214
        },
        "id": "gp53uFq_JiWX",
        "outputId": "3b585ce7-5714-4d48-bf29-8917cd378127"
      },
      "source": [
        "sess"
      ],
      "execution_count": 8,
      "outputs": [
        {
          "output_type": "execute_result",
          "data": {
            "text/html": [
              "\n",
              "            <div>\n",
              "                <p><b>SparkSession - in-memory</b></p>\n",
              "                \n",
              "        <div>\n",
              "            <p><b>SparkContext</b></p>\n",
              "\n",
              "            <p><a href=\"http://eb8205ce711f:4040\">Spark UI</a></p>\n",
              "\n",
              "            <dl>\n",
              "              <dt>Version</dt>\n",
              "                <dd><code>v3.1.2</code></dd>\n",
              "              <dt>Master</dt>\n",
              "                <dd><code>local[*]</code></dd>\n",
              "              <dt>AppName</dt>\n",
              "                <dd><code>Test1</code></dd>\n",
              "            </dl>\n",
              "        </div>\n",
              "        \n",
              "            </div>\n",
              "        "
            ],
            "text/plain": [
              "<pyspark.sql.session.SparkSession at 0x7fcd0e9b4510>"
            ]
          },
          "metadata": {
            "tags": []
          },
          "execution_count": 8
        }
      ]
    },
    {
      "cell_type": "code",
      "metadata": {
        "id": "0DW0u29gJiZz"
      },
      "source": [
        "df_spark = sess.read.csv(database_path+\"spark_test.csv\")"
      ],
      "execution_count": 9,
      "outputs": []
    },
    {
      "cell_type": "code",
      "metadata": {
        "id": "woOqUwx2Q1ft"
      },
      "source": [
        "df_spark = sess.read.option(\"header\",\"true\").csv(database_path+\"spark_test.csv\", inferSchema=True)\n",
        "df_spark = sess.read.csv(database_path+\"spark_test.csv\", header=True, inferSchema=True)\n",
        "# Both ways are correct, \"inferSchema\" is used to fetch correct data type for the columns"
      ],
      "execution_count": 10,
      "outputs": []
    },
    {
      "cell_type": "code",
      "metadata": {
        "colab": {
          "base_uri": "https://localhost:8080/"
        },
        "id": "YGdphqKOUKGp",
        "outputId": "c54d3664-55ff-409b-bd44-1b8b9b67f0cb"
      },
      "source": [
        "df_spark.show()"
      ],
      "execution_count": 11,
      "outputs": [
        {
          "output_type": "stream",
          "text": [
            "+------+---+----------+--------+\n",
            "|  Name|Age|Experience|  Salary|\n",
            "+------+---+----------+--------+\n",
            "|Gaurav| 30|         7| 1600000|\n",
            "| varun| 30|         8| 3000000|\n",
            "| Akash| 29|         6|10000000|\n",
            "|Souvik| 28|         5|  700000|\n",
            "| Ashit| 29|         5| 1200000|\n",
            "+------+---+----------+--------+\n",
            "\n"
          ],
          "name": "stdout"
        }
      ]
    },
    {
      "cell_type": "code",
      "metadata": {
        "colab": {
          "base_uri": "https://localhost:8080/"
        },
        "id": "CtBlx8eWX8bl",
        "outputId": "9a6cbcac-8d4a-4e32-85dd-2547e43bd223"
      },
      "source": [
        "df_spark"
      ],
      "execution_count": 12,
      "outputs": [
        {
          "output_type": "execute_result",
          "data": {
            "text/plain": [
              "DataFrame[Name: string, Age: int, Experience: int, Salary: int]"
            ]
          },
          "metadata": {
            "tags": []
          },
          "execution_count": 12
        }
      ]
    },
    {
      "cell_type": "code",
      "metadata": {
        "colab": {
          "base_uri": "https://localhost:8080/"
        },
        "id": "O_xjKNnaYYWH",
        "outputId": "1944e866-b5d1-4e34-9a2d-a1a133422b44"
      },
      "source": [
        "df_spark.printSchema()"
      ],
      "execution_count": 13,
      "outputs": [
        {
          "output_type": "stream",
          "text": [
            "root\n",
            " |-- Name: string (nullable = true)\n",
            " |-- Age: integer (nullable = true)\n",
            " |-- Experience: integer (nullable = true)\n",
            " |-- Salary: integer (nullable = true)\n",
            "\n"
          ],
          "name": "stdout"
        }
      ]
    },
    {
      "cell_type": "code",
      "metadata": {
        "colab": {
          "base_uri": "https://localhost:8080/"
        },
        "id": "4V39ggdAGA-n",
        "outputId": "3aa5bfa2-62aa-4312-e29a-03c19a6d930d"
      },
      "source": [
        "df_spark.select(\"Name\").show()"
      ],
      "execution_count": 14,
      "outputs": [
        {
          "output_type": "stream",
          "text": [
            "+------+\n",
            "|  Name|\n",
            "+------+\n",
            "|Gaurav|\n",
            "| varun|\n",
            "| Akash|\n",
            "|Souvik|\n",
            "| Ashit|\n",
            "+------+\n",
            "\n"
          ],
          "name": "stdout"
        }
      ]
    },
    {
      "cell_type": "code",
      "metadata": {
        "colab": {
          "base_uri": "https://localhost:8080/"
        },
        "id": "txIFQ7c3HRvG",
        "outputId": "6b332be6-96ee-40a1-9dc1-140d6a032798"
      },
      "source": [
        "df_spark.dtypes"
      ],
      "execution_count": 15,
      "outputs": [
        {
          "output_type": "execute_result",
          "data": {
            "text/plain": [
              "[('Name', 'string'), ('Age', 'int'), ('Experience', 'int'), ('Salary', 'int')]"
            ]
          },
          "metadata": {
            "tags": []
          },
          "execution_count": 15
        }
      ]
    },
    {
      "cell_type": "code",
      "metadata": {
        "colab": {
          "base_uri": "https://localhost:8080/"
        },
        "id": "RBUlHzRpr6wq",
        "outputId": "99731e8c-4c10-4746-be53-3a6c6c045233"
      },
      "source": [
        "df_spark.describe().show()"
      ],
      "execution_count": 16,
      "outputs": [
        {
          "output_type": "stream",
          "text": [
            "+-------+-----+------------------+------------------+-----------------+\n",
            "|summary| Name|               Age|        Experience|           Salary|\n",
            "+-------+-----+------------------+------------------+-----------------+\n",
            "|  count|    5|                 5|                 5|                5|\n",
            "|   mean| null|              29.2|               6.2|        3300000.0|\n",
            "| stddev| null|0.8366600265340759|1.3038404810405297|3841874.542459709|\n",
            "|    min|Akash|                28|                 5|           700000|\n",
            "|    max|varun|                30|                 8|         10000000|\n",
            "+-------+-----+------------------+------------------+-----------------+\n",
            "\n"
          ],
          "name": "stdout"
        }
      ]
    },
    {
      "cell_type": "code",
      "metadata": {
        "colab": {
          "base_uri": "https://localhost:8080/"
        },
        "id": "56mcLj9BsQGz",
        "outputId": "3e89b699-09ee-4b19-afd8-06ac39b32b30"
      },
      "source": [
        "# adding a column in pysspark dataframe\n",
        "df_spark = df_spark.withColumn(\"Age after 2 years\", df_spark[\"Age\"]+2)\n",
        "df_spark.show()"
      ],
      "execution_count": 17,
      "outputs": [
        {
          "output_type": "stream",
          "text": [
            "+------+---+----------+--------+-----------------+\n",
            "|  Name|Age|Experience|  Salary|Age after 2 years|\n",
            "+------+---+----------+--------+-----------------+\n",
            "|Gaurav| 30|         7| 1600000|               32|\n",
            "| varun| 30|         8| 3000000|               32|\n",
            "| Akash| 29|         6|10000000|               31|\n",
            "|Souvik| 28|         5|  700000|               30|\n",
            "| Ashit| 29|         5| 1200000|               31|\n",
            "+------+---+----------+--------+-----------------+\n",
            "\n"
          ],
          "name": "stdout"
        }
      ]
    },
    {
      "cell_type": "code",
      "metadata": {
        "colab": {
          "base_uri": "https://localhost:8080/"
        },
        "id": "BRaIwqJCtO5d",
        "outputId": "420c3650-d240-484b-e08e-c9030c29c28c"
      },
      "source": [
        "# Drop a column\n",
        "df_spark = df_spark.drop(\"Age after 2 years\")\n",
        "df_spark.show()"
      ],
      "execution_count": 18,
      "outputs": [
        {
          "output_type": "stream",
          "text": [
            "+------+---+----------+--------+\n",
            "|  Name|Age|Experience|  Salary|\n",
            "+------+---+----------+--------+\n",
            "|Gaurav| 30|         7| 1600000|\n",
            "| varun| 30|         8| 3000000|\n",
            "| Akash| 29|         6|10000000|\n",
            "|Souvik| 28|         5|  700000|\n",
            "| Ashit| 29|         5| 1200000|\n",
            "+------+---+----------+--------+\n",
            "\n"
          ],
          "name": "stdout"
        }
      ]
    },
    {
      "cell_type": "code",
      "metadata": {
        "colab": {
          "base_uri": "https://localhost:8080/"
        },
        "id": "Nj3dyxSb_Lvr",
        "outputId": "f15331d1-cd34-45b1-a986-77ae14a3bb1f"
      },
      "source": [
        "# Rename column name\n",
        "df_spark = df_spark.withColumnRenamed(\"Name\", \"NAME\")\n",
        "df_spark.show()"
      ],
      "execution_count": 19,
      "outputs": [
        {
          "output_type": "stream",
          "text": [
            "+------+---+----------+--------+\n",
            "|  NAME|Age|Experience|  Salary|\n",
            "+------+---+----------+--------+\n",
            "|Gaurav| 30|         7| 1600000|\n",
            "| varun| 30|         8| 3000000|\n",
            "| Akash| 29|         6|10000000|\n",
            "|Souvik| 28|         5|  700000|\n",
            "| Ashit| 29|         5| 1200000|\n",
            "+------+---+----------+--------+\n",
            "\n"
          ],
          "name": "stdout"
        }
      ]
    },
    {
      "cell_type": "markdown",
      "metadata": {
        "id": "zJmh-R8URNzB"
      },
      "source": [
        "**HANDLE MISSING VALUES**"
      ]
    },
    {
      "cell_type": "code",
      "metadata": {
        "id": "uPihAeMERSZt"
      },
      "source": [
        "sess2 = SparkSession.builder.appName(\"missing\").getOrCreate()\n",
        "missing_filename = \"spark_test_missing.csv\""
      ],
      "execution_count": 20,
      "outputs": []
    },
    {
      "cell_type": "code",
      "metadata": {
        "id": "fvMtPxr4Uqij",
        "colab": {
          "base_uri": "https://localhost:8080/"
        },
        "outputId": "616c6785-27bb-4e69-c601-1c71924b2331"
      },
      "source": [
        "df_spark2 = sess2.read.load(database_path+\"spark_test_missing.csv\", format=\"csv\", header=\"true\", sep=\"\\t\", inferSchema=\"true\" )\n",
        "#df_spark2 = sess2.read.format(\"csv\").options(header=\"true\").load(database_path+\"spark_test_missing.csv\")\n",
        "df_spark2.show()"
      ],
      "execution_count": 21,
      "outputs": [
        {
          "output_type": "stream",
          "text": [
            "+------+----+----------+--------+\n",
            "|  Name| Age|Experience|  Salary|\n",
            "+------+----+----------+--------+\n",
            "|Gaurav|  30|         7| 1600000|\n",
            "| varun|  30|         8| 3000000|\n",
            "| Akash|  29|         6|10000000|\n",
            "|Souvik|null|         5|  700000|\n",
            "|   Sid|  30|      null|    null|\n",
            "| Ashit|  29|         5| 1200000|\n",
            "|  null|  31|         9| 1800000|\n",
            "+------+----+----------+--------+\n",
            "\n"
          ],
          "name": "stdout"
        }
      ]
    },
    {
      "cell_type": "code",
      "metadata": {
        "colab": {
          "base_uri": "https://localhost:8080/"
        },
        "id": "gKCJxKM1RUAF",
        "outputId": "e9aed230-76ee-4081-9a4d-bdd3bc433ea2"
      },
      "source": [
        "df_spark2.columns"
      ],
      "execution_count": 22,
      "outputs": [
        {
          "output_type": "execute_result",
          "data": {
            "text/plain": [
              "['Name', 'Age', 'Experience', 'Salary']"
            ]
          },
          "metadata": {
            "tags": []
          },
          "execution_count": 22
        }
      ]
    },
    {
      "cell_type": "code",
      "metadata": {
        "colab": {
          "base_uri": "https://localhost:8080/"
        },
        "id": "BXHAhg61RUDc",
        "outputId": "d401042d-a52a-4d4e-d506-2ced27bd9c31"
      },
      "source": [
        "# Drop all null values\n",
        "df_spark2.na.drop(how=\"any\").show() # this will delete all rows where at least one null value is present"
      ],
      "execution_count": 23,
      "outputs": [
        {
          "output_type": "stream",
          "text": [
            "+------+---+----------+--------+\n",
            "|  Name|Age|Experience|  Salary|\n",
            "+------+---+----------+--------+\n",
            "|Gaurav| 30|         7| 1600000|\n",
            "| varun| 30|         8| 3000000|\n",
            "| Akash| 29|         6|10000000|\n",
            "| Ashit| 29|         5| 1200000|\n",
            "+------+---+----------+--------+\n",
            "\n"
          ],
          "name": "stdout"
        }
      ]
    },
    {
      "cell_type": "code",
      "metadata": {
        "id": "h-n6nkXZvVZ0",
        "colab": {
          "base_uri": "https://localhost:8080/"
        },
        "outputId": "1bfe2db1-21f8-4e49-ea63-bce470c3c908"
      },
      "source": [
        "df_spark2.na.drop(how=\"any\", thresh=2).show() # this will delete all rows where at least 2 not null values are present"
      ],
      "execution_count": 24,
      "outputs": [
        {
          "output_type": "stream",
          "text": [
            "+------+----+----------+--------+\n",
            "|  Name| Age|Experience|  Salary|\n",
            "+------+----+----------+--------+\n",
            "|Gaurav|  30|         7| 1600000|\n",
            "| varun|  30|         8| 3000000|\n",
            "| Akash|  29|         6|10000000|\n",
            "|Souvik|null|         5|  700000|\n",
            "|   Sid|  30|      null|    null|\n",
            "| Ashit|  29|         5| 1200000|\n",
            "|  null|  31|         9| 1800000|\n",
            "+------+----+----------+--------+\n",
            "\n"
          ],
          "name": "stdout"
        }
      ]
    },
    {
      "cell_type": "code",
      "metadata": {
        "colab": {
          "base_uri": "https://localhost:8080/"
        },
        "id": "9n1_dvlKwAVD",
        "outputId": "82e163ba-cc21-4ba4-d4d7-133825b68e64"
      },
      "source": [
        "df_spark2.na.drop(how=\"any\", subset=[\"Name\"]).show() # this will delete all rows for column=\"Name\", where null values are present"
      ],
      "execution_count": 25,
      "outputs": [
        {
          "output_type": "stream",
          "text": [
            "+------+----+----------+--------+\n",
            "|  Name| Age|Experience|  Salary|\n",
            "+------+----+----------+--------+\n",
            "|Gaurav|  30|         7| 1600000|\n",
            "| varun|  30|         8| 3000000|\n",
            "| Akash|  29|         6|10000000|\n",
            "|Souvik|null|         5|  700000|\n",
            "|   Sid|  30|      null|    null|\n",
            "| Ashit|  29|         5| 1200000|\n",
            "+------+----+----------+--------+\n",
            "\n"
          ],
          "name": "stdout"
        }
      ]
    },
    {
      "cell_type": "code",
      "metadata": {
        "id": "OKpnrZxVwAYZ",
        "colab": {
          "base_uri": "https://localhost:8080/"
        },
        "outputId": "cbe08599-fcfa-4808-c020-bb0bc362b892"
      },
      "source": [
        "## FILLING THE MISSING VALUES\n",
        "df_spark2.na.fill(\"NA\", subset=[\"Name\"]).show()  # Null values are replaced/filled by \"NA\""
      ],
      "execution_count": 26,
      "outputs": [
        {
          "output_type": "stream",
          "text": [
            "+------+----+----------+--------+\n",
            "|  Name| Age|Experience|  Salary|\n",
            "+------+----+----------+--------+\n",
            "|Gaurav|  30|         7| 1600000|\n",
            "| varun|  30|         8| 3000000|\n",
            "| Akash|  29|         6|10000000|\n",
            "|Souvik|null|         5|  700000|\n",
            "|   Sid|  30|      null|    null|\n",
            "| Ashit|  29|         5| 1200000|\n",
            "|    NA|  31|         9| 1800000|\n",
            "+------+----+----------+--------+\n",
            "\n"
          ],
          "name": "stdout"
        }
      ]
    },
    {
      "cell_type": "code",
      "metadata": {
        "id": "UAjfDGgfBumI"
      },
      "source": [
        "# Imputer , this Class is used to replace all null values with mean, median or mode\n",
        "from pyspark.ml.feature import Imputer\n",
        "\n",
        "imputer = Imputer(\n",
        "          inputCols=[\"Age\",\"Experience\",\"Salary\"],\n",
        "          outputCols=[\"{}_imputed\".format(c) for c in [\"Age\", \"Experience\", \"Salary\"]]\n",
        "        ).setStrategy(\"mean\")"
      ],
      "execution_count": 27,
      "outputs": []
    },
    {
      "cell_type": "code",
      "metadata": {
        "id": "izyWw9c0HC3n",
        "colab": {
          "base_uri": "https://localhost:8080/"
        },
        "outputId": "d5458ece-8a20-443a-a13a-a76c871c8992"
      },
      "source": [
        "imputer.fit(df_spark2).transform(df_spark2).show()"
      ],
      "execution_count": 28,
      "outputs": [
        {
          "output_type": "stream",
          "text": [
            "+------+----+----------+--------+-----------+------------------+--------------+\n",
            "|  Name| Age|Experience|  Salary|Age_imputed|Experience_imputed|Salary_imputed|\n",
            "+------+----+----------+--------+-----------+------------------+--------------+\n",
            "|Gaurav|  30|         7| 1600000|         30|                 7|       1600000|\n",
            "| varun|  30|         8| 3000000|         30|                 8|       3000000|\n",
            "| Akash|  29|         6|10000000|         29|                 6|      10000000|\n",
            "|Souvik|null|         5|  700000|         29|                 5|        700000|\n",
            "|   Sid|  30|      null|    null|         30|                 6|       3050000|\n",
            "| Ashit|  29|         5| 1200000|         29|                 5|       1200000|\n",
            "|  null|  31|         9| 1800000|         31|                 9|       1800000|\n",
            "+------+----+----------+--------+-----------+------------------+--------------+\n",
            "\n"
          ],
          "name": "stdout"
        }
      ]
    },
    {
      "cell_type": "markdown",
      "metadata": {
        "id": "IBAIA_vVQCI3"
      },
      "source": [
        "**FILTER OPERATIONS**"
      ]
    },
    {
      "cell_type": "code",
      "metadata": {
        "id": "w9J0T-G-QEvx",
        "colab": {
          "base_uri": "https://localhost:8080/"
        },
        "outputId": "205ea4b0-ca41-441c-b967-05309680112b"
      },
      "source": [
        "df_spark2.filter(\"Salary<=1800000\").show()"
      ],
      "execution_count": 29,
      "outputs": [
        {
          "output_type": "stream",
          "text": [
            "+------+----+----------+-------+\n",
            "|  Name| Age|Experience| Salary|\n",
            "+------+----+----------+-------+\n",
            "|Gaurav|  30|         7|1600000|\n",
            "|Souvik|null|         5| 700000|\n",
            "| Ashit|  29|         5|1200000|\n",
            "|  null|  31|         9|1800000|\n",
            "+------+----+----------+-------+\n",
            "\n"
          ],
          "name": "stdout"
        }
      ]
    },
    {
      "cell_type": "code",
      "metadata": {
        "colab": {
          "base_uri": "https://localhost:8080/"
        },
        "id": "FJyUApvMnEr4",
        "outputId": "bd0138ff-a07c-4733-87d6-17cf8ff58692"
      },
      "source": [
        "df_spark2.filter(\"Salary<=1800000\").select([\"Name\",\"Age\"]).show()"
      ],
      "execution_count": 30,
      "outputs": [
        {
          "output_type": "stream",
          "text": [
            "+------+----+\n",
            "|  Name| Age|\n",
            "+------+----+\n",
            "|Gaurav|  30|\n",
            "|Souvik|null|\n",
            "| Ashit|  29|\n",
            "|  null|  31|\n",
            "+------+----+\n",
            "\n"
          ],
          "name": "stdout"
        }
      ]
    },
    {
      "cell_type": "code",
      "metadata": {
        "colab": {
          "base_uri": "https://localhost:8080/"
        },
        "id": "mBnzN7fiorkv",
        "outputId": "4ddc5a6e-df9d-41d8-847b-3df0ed643e5c"
      },
      "source": [
        "# Inverse operation\n",
        "df_spark2.filter( ~(df_spark2[\"Salary\"]<=1800000)).show()"
      ],
      "execution_count": 31,
      "outputs": [
        {
          "output_type": "stream",
          "text": [
            "+-----+---+----------+--------+\n",
            "| Name|Age|Experience|  Salary|\n",
            "+-----+---+----------+--------+\n",
            "|varun| 30|         8| 3000000|\n",
            "|Akash| 29|         6|10000000|\n",
            "+-----+---+----------+--------+\n",
            "\n"
          ],
          "name": "stdout"
        }
      ]
    },
    {
      "cell_type": "code",
      "metadata": {
        "colab": {
          "base_uri": "https://localhost:8080/"
        },
        "id": "9fK_BHHcnXg_",
        "outputId": "14e664e4-a3f1-4444-f05e-a076b93745be"
      },
      "source": [
        "df_spark2.filter( (df_spark2[\"Salary\"]<=1800000) & \n",
        "                  (df_spark2[\"Age\"]<31)\n",
        "                ).show()"
      ],
      "execution_count": 32,
      "outputs": [
        {
          "output_type": "stream",
          "text": [
            "+------+---+----------+-------+\n",
            "|  Name|Age|Experience| Salary|\n",
            "+------+---+----------+-------+\n",
            "|Gaurav| 30|         7|1600000|\n",
            "| Ashit| 29|         5|1200000|\n",
            "+------+---+----------+-------+\n",
            "\n"
          ],
          "name": "stdout"
        }
      ]
    },
    {
      "cell_type": "code",
      "metadata": {
        "id": "uRQhurJ3nXjj",
        "colab": {
          "base_uri": "https://localhost:8080/"
        },
        "outputId": "1529ba70-183b-45aa-c034-98c1c0d59714"
      },
      "source": [
        "df_spark3 = sess2.read.load(database_path+\"spark_groupby.csv\", format=\"csv\", header=\"true\", inferSchema=\"true\", sep=\",\")\n",
        "df_spark3.show()"
      ],
      "execution_count": 33,
      "outputs": [
        {
          "output_type": "stream",
          "text": [
            "+-------+---------+--------+\n",
            "|   Name|      Org|  Salary|\n",
            "+-------+---------+--------+\n",
            "| Gaurav|Accenture| 1600000|\n",
            "|  varun|Accenture| 3000000|\n",
            "|  Akash|     EPIC|10000000|\n",
            "| Souvik|Accenture|  800000|\n",
            "|  Ashit|      GOV| 1200000|\n",
            "|Prakhar|      GOV| 1500000|\n",
            "|  Karan|     EPIC| 1300000|\n",
            "+-------+---------+--------+\n",
            "\n"
          ],
          "name": "stdout"
        }
      ]
    },
    {
      "cell_type": "code",
      "metadata": {
        "id": "iIKx5n_XnXmd",
        "colab": {
          "base_uri": "https://localhost:8080/"
        },
        "outputId": "097d98c0-4f51-46e9-b3d1-3b0addd3bbce"
      },
      "source": [
        "df_spark3.printSchema()"
      ],
      "execution_count": 34,
      "outputs": [
        {
          "output_type": "stream",
          "text": [
            "root\n",
            " |-- Name: string (nullable = true)\n",
            " |-- Org: string (nullable = true)\n",
            " |-- Salary: integer (nullable = true)\n",
            "\n"
          ],
          "name": "stdout"
        }
      ]
    },
    {
      "cell_type": "code",
      "metadata": {
        "id": "3qkxTGjlnXoZ",
        "colab": {
          "base_uri": "https://localhost:8080/"
        },
        "outputId": "bf96e2ab-5ebf-4781-e4f2-8eb6962f6c4d"
      },
      "source": [
        "df_spark3.groupBy(\"Org\").sum().show()"
      ],
      "execution_count": 36,
      "outputs": [
        {
          "output_type": "stream",
          "text": [
            "+---------+-----------+\n",
            "|      Org|sum(Salary)|\n",
            "+---------+-----------+\n",
            "|Accenture|    5400000|\n",
            "|     EPIC|   10000000|\n",
            "|      GOV|    1200000|\n",
            "| personal|      70000|\n",
            "+---------+-----------+\n",
            "\n"
          ],
          "name": "stdout"
        }
      ]
    },
    {
      "cell_type": "code",
      "metadata": {
        "id": "HqHm-HtSnXq1",
        "colab": {
          "base_uri": "https://localhost:8080/"
        },
        "outputId": "a5e58468-c538-489c-9b22-52ac663df696"
      },
      "source": [
        "df_spark3.groupBy(\"Org\").count().show()"
      ],
      "execution_count": 37,
      "outputs": [
        {
          "output_type": "stream",
          "text": [
            "+---------+-----+\n",
            "|      Org|count|\n",
            "+---------+-----+\n",
            "|Accenture|    3|\n",
            "|     EPIC|    1|\n",
            "|      GOV|    1|\n",
            "| personal|    2|\n",
            "+---------+-----+\n",
            "\n"
          ],
          "name": "stdout"
        }
      ]
    },
    {
      "cell_type": "code",
      "metadata": {
        "id": "3cVHVBT9nXtj",
        "colab": {
          "base_uri": "https://localhost:8080/"
        },
        "outputId": "c6c19258-5377-4e1f-8ffd-ee3b92a221cf"
      },
      "source": [
        "df_spark3.groupBy(\"Org\").mean().show()"
      ],
      "execution_count": 38,
      "outputs": [
        {
          "output_type": "stream",
          "text": [
            "+---------+-----------+\n",
            "|      Org|avg(Salary)|\n",
            "+---------+-----------+\n",
            "|Accenture|  1800000.0|\n",
            "|     EPIC|      1.0E7|\n",
            "|      GOV|  1200000.0|\n",
            "| personal|    35000.0|\n",
            "+---------+-----------+\n",
            "\n"
          ],
          "name": "stdout"
        }
      ]
    },
    {
      "cell_type": "code",
      "metadata": {
        "id": "tQ_SMV01nXvq"
      },
      "source": [
        ""
      ],
      "execution_count": 34,
      "outputs": []
    },
    {
      "cell_type": "code",
      "metadata": {
        "id": "4X-wRpWJnXzM"
      },
      "source": [
        ""
      ],
      "execution_count": 34,
      "outputs": []
    }
  ]
}